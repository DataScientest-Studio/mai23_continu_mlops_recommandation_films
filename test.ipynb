{
 "cells": [
  {
   "cell_type": "code",
   "execution_count": 2,
   "metadata": {},
   "outputs": [],
   "source": [
    "import joblib\n",
    "import pandas as pd\n",
    "import numpy as  np\n",
    "\n",
    "kneighbors_results = np.load('data/loaded_api_datasets/kneighbors_results.npy')\n",
    "svd_model = joblib.load('data/loaded_api_datasets/svd_model.pkl')\n",
    "collab_filtering = pd.read_pickle('data/loaded_api_datasets/collab_filtering_df.pkl')\n",
    "content_based_filtering_duplicated = pd.read_pickle('data/loaded_api_datasets/content_based_filtering_df.pkl')\n",
    "movies = pd.read_pickle('data/loaded_api_datasets/movies.pkl')\n",
    "movies_index = pd.read_pickle('data/loaded_api_datasets/movies_index.pkl')\n",
    "df_merged = pd.read_pickle('data/loaded_api_datasets/df_merged.pkl')"
   ]
  },
  {
   "cell_type": "code",
   "execution_count": 11,
   "metadata": {},
   "outputs": [
    {
     "data": {
      "text/plain": [
       "(1469445, 14)"
      ]
     },
     "execution_count": 11,
     "metadata": {},
     "output_type": "execute_result"
    }
   ],
   "source": []
  }
 ],
 "metadata": {
  "kernelspec": {
   "display_name": "Python 3",
   "language": "python",
   "name": "python3"
  },
  "language_info": {
   "codemirror_mode": {
    "name": "ipython",
    "version": 3
   },
   "file_extension": ".py",
   "mimetype": "text/x-python",
   "name": "python",
   "nbconvert_exporter": "python",
   "pygments_lexer": "ipython3",
   "version": "3.11.4"
  },
  "orig_nbformat": 4
 },
 "nbformat": 4,
 "nbformat_minor": 2
}
